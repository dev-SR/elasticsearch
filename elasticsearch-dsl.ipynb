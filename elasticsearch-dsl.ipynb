{
 "cells": [
  {
   "cell_type": "markdown",
   "metadata": {},
   "source": [
    "# Elasticsearch DSL"
   ]
  },
  {
   "cell_type": "code",
   "execution_count": 35,
   "metadata": {},
   "outputs": [],
   "source": [
    "from pprint import pprint"
   ]
  },
  {
   "cell_type": "markdown",
   "metadata": {},
   "source": [
    "## Creating index and saving documents "
   ]
  },
  {
   "cell_type": "code",
   "execution_count": 8,
   "metadata": {},
   "outputs": [],
   "source": [
    "from elasticsearch_dsl import Document, Text, Keyword, Float, Integer, Nested, InnerDoc\n",
    "from elasticsearch_dsl.connections import connections\n",
    "connections.create_connection(hosts='http://localhost:9200')\n",
    "\n",
    "\n",
    "class Filter(InnerDoc):\n",
    "    name = Keyword(copy_to='all_filters')\n",
    "    value = Keyword(copy_to='all_filters')\n",
    "\n",
    "\n",
    "class Product(Document):\n",
    "    title = Text(copy_to='all_filters')\n",
    "    description = Text(copy_to='all_filters')\n",
    "    price = Float()\n",
    "    category = Keyword(copy_to='all_filters')\n",
    "    brand = Keyword(copy_to='all_filters')\n",
    "    quantity = Integer()\n",
    "    filters = Nested(Filter)\n",
    "\n",
    "    class Index:\n",
    "        name = 'product'\n",
    "        settings = {\n",
    "            'number_of_shards': 1,\n",
    "            'number_of_replicas': 0\n",
    "        }\n",
    "\n",
    "\n",
    "# Create the index in Elasticsearch\n",
    "Product.init()"
   ]
  },
  {
   "cell_type": "code",
   "execution_count": 9,
   "metadata": {},
   "outputs": [
    {
     "data": {
      "text/plain": [
       "'created'"
      ]
     },
     "execution_count": 9,
     "metadata": {},
     "output_type": "execute_result"
    }
   ],
   "source": [
    "# save doc to index\n",
    "product = Product(\n",
    "    title=\"Apple iPhone 12\",\n",
    "    description=\"Previous generation Apple smartphone\",\n",
    "    price=799.99,\n",
    "    category=\"electronics\",\n",
    "    brand=\"Apple\",\n",
    "    quantity=80,\n",
    "    filters=[\n",
    "        {'name': 'color', 'value': 'purple'},\n",
    "        {'name': 'storage', 'value': '64GB'},\n",
    "        {'name': 'network', 'value': '5G'}\n",
    "    ]\n",
    ")\n",
    "product.save()\n",
    "\n",
    "# Add more products similarly"
   ]
  },
  {
   "cell_type": "markdown",
   "metadata": {},
   "source": [
    "## Search in elasticsearch-dsl"
   ]
  },
  {
   "cell_type": "markdown",
   "metadata": {},
   "source": [
    "### searching"
   ]
  },
  {
   "cell_type": "code",
   "execution_count": 21,
   "metadata": {},
   "outputs": [
    {
     "name": "stdout",
     "output_type": "stream",
     "text": [
      "iPhone 13\n",
      "Apple iPhone 12\n",
      "Apple iPhone 14\n",
      "Apple iPhone 14 Pro\n"
     ]
    }
   ],
   "source": [
    "from elasticsearch import Elasticsearch\n",
    "from elasticsearch_dsl import Search\n",
    "\n",
    "# client = Elasticsearch(hosts='http://localhost:9200')\n",
    "\n",
    "s = Search(\n",
    "    # using=client\n",
    ").query(\"match\", title=\"iphone\")\n",
    "# print(s.execute())\n",
    "for product in s:\n",
    "    print(product.title)"
   ]
  },
  {
   "cell_type": "markdown",
   "metadata": {},
   "source": [
    "### `Q` object"
   ]
  },
  {
   "cell_type": "code",
   "execution_count": 25,
   "metadata": {},
   "outputs": [
    {
     "name": "stdout",
     "output_type": "stream",
     "text": [
      "Apple iPhone 14 Pro\n",
      "Apple iPhone 12\n",
      "Apple iPhone 14\n"
     ]
    }
   ],
   "source": [
    "from elasticsearch_dsl import Q\n",
    "\n",
    "q = Q('bool',\n",
    "      must=[Q('match', title='iphone')],\n",
    "      should=[Q('match', title='apple'), Q('match', title='pro')],\n",
    "      minimum_should_match=1\n",
    "      )\n",
    "s = Search(index=\"product\").query(q)\n",
    "for product in s:\n",
    "    print(product.title)"
   ]
  },
  {
   "cell_type": "markdown",
   "metadata": {},
   "source": [
    "### Filter"
   ]
  },
  {
   "cell_type": "code",
   "execution_count": 31,
   "metadata": {},
   "outputs": [
    {
     "name": "stdout",
     "output_type": "stream",
     "text": [
      "Apple iPhone 12\n",
      "Apple iPhone 14\n",
      "Apple iPhone 14 Pro\n"
     ]
    }
   ],
   "source": [
    "s = Search(index=\"product\")\n",
    "s = s.query('bool', filter=[Q('match', title='apple'), Q('match', category='smartphones')])\n",
    "for product in s:\n",
    "    print(product.title)"
   ]
  },
  {
   "cell_type": "markdown",
   "metadata": {},
   "source": [
    "## Aggregations"
   ]
  },
  {
   "cell_type": "markdown",
   "metadata": {},
   "source": [
    "```sh\n",
    "GET index/_search\n",
    "{\n",
    "  \"aggs\": {\n",
    "    \"agg_name\": {\n",
    "      \"agg_type\": {\n",
    "        \"field\": \"field_name\"\n",
    "      }\n",
    "    }\n",
    "  }\n",
    "}\n",
    "```"
   ]
  },
  {
   "cell_type": "markdown",
   "metadata": {},
   "source": [
    "### Metrics aggregations"
   ]
  },
  {
   "cell_type": "code",
   "execution_count": 48,
   "metadata": {},
   "outputs": [
    {
     "name": "stdout",
     "output_type": "stream",
     "text": [
      "{'aggs': {'stats_price': {'stats': {'field': 'price'}}}, 'size': 0}\n",
      "Count: 66\n",
      "Min: 29.989999771118164\n",
      "Max: 3899.0\n",
      "Avg: 774.867570067897\n",
      "Sum: 51141.2596244812\n"
     ]
    }
   ],
   "source": [
    "from elasticsearch_dsl import Search\n",
    "\n",
    "# Create a Search object\n",
    "s = Search(index=\"product\")\n",
    "\n",
    "# Add the aggregation\n",
    "s.aggs.metric(name='stats_price', agg_type='stats', field='price')\n",
    "\n",
    "# Set the size to 0\n",
    "s = s.extra(size=0)\n",
    "# Execute the search\n",
    "response = s.execute()\n",
    "pprint(s.to_dict())\n",
    "\n",
    "# Access the stats aggregation results\n",
    "stats_price = response.aggregations.stats_price\n",
    "\n",
    "# Print the stats\n",
    "print(\"Count:\", stats_price.count)\n",
    "print(\"Min:\", stats_price.min)\n",
    "print(\"Max:\", stats_price.max)\n",
    "print(\"Avg:\", stats_price.avg)\n",
    "print(\"Sum:\", stats_price.sum)"
   ]
  },
  {
   "cell_type": "markdown",
   "metadata": {},
   "source": [
    "### Bucket aggregation"
   ]
  },
  {
   "cell_type": "code",
   "execution_count": 49,
   "metadata": {},
   "outputs": [
    {
     "name": "stdout",
     "output_type": "stream",
     "text": [
      "{'aggs': {'groups_by_category': {'terms': {'field': 'category',\n",
      "                                           'min_doc_count': 1}}}}\n",
      "Category: laptops, Document Count: 14\n",
      "Category: clothing, Document Count: 10\n",
      "Category: televisions, Document Count: 7\n",
      "Category: fashion, Document Count: 6\n",
      "Category: smartphones, Document Count: 6\n",
      "Category: refrigerators, Document Count: 5\n",
      "Category: shoes, Document Count: 5\n",
      "Category: home, Document Count: 4\n",
      "Category: cameras, Document Count: 3\n",
      "Category: electronics, Document Count: 2\n"
     ]
    }
   ],
   "source": [
    "from elasticsearch_dsl import Search, A\n",
    "\n",
    "# Create a Search object\n",
    "s = Search(index=\"product\")\n",
    "\n",
    "# Define the terms aggregation\n",
    "# agg = A('terms', field='category', min_doc_count=1)\n",
    "# Add the aggregation to the search object\n",
    "# s.aggs.bucket('groups_by_category', agg)\n",
    "\n",
    "s.aggs.bucket(name='groups_by_category', agg_type='terms', field='category', min_doc_count=1)\n",
    "\n",
    "# Set the size to 0\n",
    "# s = s.extra(size=0)\n",
    "\n",
    "pprint(s.to_dict())\n",
    "\n",
    "# Execute the search\n",
    "response = s.execute()\n",
    "\n",
    "# Access the aggregation results\n",
    "groups_by_category = response.aggregations.groups_by_category\n",
    "\n",
    "# Print the category buckets\n",
    "for bucket in groups_by_category.buckets:\n",
    "    print(f\"Category: {bucket.key}, Document Count: {bucket.doc_count}\")"
   ]
  },
  {
   "cell_type": "markdown",
   "metadata": {},
   "source": [
    "## Pagination\n"
   ]
  },
  {
   "cell_type": "markdown",
   "metadata": {},
   "source": [
    "To specify the from/size parameters, use the Python slicing API:\n"
   ]
  },
  {
   "cell_type": "code",
   "execution_count": 51,
   "metadata": {},
   "outputs": [],
   "source": [
    "s = s[10:20]\n",
    "# {\"from\": 10, \"size\": 10}\n",
    "\n",
    "s = s[:20]\n",
    "# {\"size\": 20}\n",
    "\n",
    "s = s[10:]\n",
    "# {\"from\": 10}\n",
    "\n",
    "s = s[10:20][2:]\n",
    "# {\"from\": 12, \"size\": 8}"
   ]
  }
 ],
 "metadata": {
  "kernelspec": {
   "display_name": "base",
   "language": "python",
   "name": "python3"
  },
  "language_info": {
   "codemirror_mode": {
    "name": "ipython",
    "version": 3
   },
   "file_extension": ".py",
   "mimetype": "text/x-python",
   "name": "python",
   "nbconvert_exporter": "python",
   "pygments_lexer": "ipython3",
   "version": "3.9.12"
  }
 },
 "nbformat": 4,
 "nbformat_minor": 2
}
